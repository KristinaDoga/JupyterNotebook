{
 "cells": [
  {
   "cell_type": "markdown",
   "id": "a7b544e8-e8d1-4294-ab42-50ef68b742c8",
   "metadata": {},
   "source": [
    "<h1>Нелинейные уравнения и системы</h1>\n",
    "\n",
    "<p>\n",
    "   Вобщем случае аналитическое решение уравнения $f(x)=0$ можно найти только для\n",
    "узкого класса функций. Чаще всего приходится решать это уравнение численными \n",
    "методами. <i>Численное решение уравнения</i> проводят в два этапа. На \n",
    "<i>первом этапе</i> отделяют корни уравнения, т.е. находят\n",
    "достаточно тесные промежутки, в которых содержится только один корень. \n",
    "Эти промежутки называют <i>интервалами изоляции корня</i>. Определить интервалы \n",
    "изоляции корня можно, например, изобразив график\n",
    "функции. Идея <i>графического метода</i> основана на том, что\n",
    "непрерывная функция $f(x)$ имеет на интервале $[a,b]$ хотя бы один корень, \n",
    "если она поменяла на этом интервале знак: $f(a)\\cdot f(b)<0 $.\n",
    "Границы интервала $a$ и $b$ называют пределами интервала\n",
    "\tизоляции. Графический метод весьма приблизителен, отделить корни \n",
    "\tдля функции $f(x)=xsin(\\frac{1}{x})$, при $x\\ne 0$ и $f(x)=0$ при $x=0$ ни на каком интервале, \n",
    "\tсодержащем нуль ($x=0$) таким способом не удастся. \n",
    "На <i>втором этапе</i> проводят уточнение отделённых корней, \n",
    "т.е. находят корни с заданной точностью.\n",
    "</p>\n",
    "<h2>Решение алгебраических уравнений</h2>\n",
    "<p>Любое уравнение $P(x)=0$, где $P(x)$ это\n",
    "   многочлен (<i>полином</i>), отличный от нулевого, называется <i>алгебраическим уравнением</i> относительно переменной $x$. Всякое алгебраическое уравнение относительно\n",
    "   $x$ можно записать в виде\n",
    "   $$\n",
    "   a_{0}+a_{1}x+a_{2}x^{2}+\\dots+a_{n}x^{n}=0,\\quad\\text{где } a_{0}\\neq 0,n\\geqslant 1\n",
    "   $$\n",
    "   $a_{i}$ — коэффициенты алгебраического уравнения $n$–й степени.\n",
    "   Например, линейное уравнение это алгебраическое уравнение первой степени,\n",
    "   квадратное — второй, кубическое — третьей и так далее.</p>\n",
    "\n",
    "В <b>Octave</b> <i>определить алгебраическое уравнение</i> можно в виде\n",
    "вектора его коэффициентов $p=\\{a_{n},a_{n-1},\\dots,a_{1,}a_{0}\\}$. Например,\n",
    "полином $2x^{5}+3x^{3}-1=0$ задаётся вектором:"
   ]
  },
  {
   "cell_type": "code",
   "execution_count": 1,
   "id": "5d25e95d-2249-43ea-812c-1cc76f91b930",
   "metadata": {},
   "outputs": [
    {
     "name": "stdout",
     "output_type": "stream",
     "text": [
      "p =\n",
      "\n",
      "   2   0   3   0  -1\n",
      "\n"
     ]
    }
   ],
   "source": [
    "p=[2,0,6,0,-1]"
   ]
  },
  {
   "cell_type": "markdown",
   "id": "c180a019-935a-4f95-85aa-272b75b73b2e",
   "metadata": {},
   "source": [
    "<p>Рассмотрим функции, предназначенные для <i>действий над многочленами</i>.</p>\n",
    "<p><i>Произведение двух многочленов вычисляет</i> функция\n",
    "   $q=conv(p1, p2)$,\n",
    "   где $p1$ — многочлен степени $n$, $p2$ — многочлен степени $m$.\n",
    "   Функция формирует вектор $q$, соответствующий коэффициентам многочлена степени\n",
    "   $n+m$, полученного в результате умножения $p1$ на $p2$.</p>\n",
    "<b>Пример:</b>\n",
    "<p>Определить многочлен, который получится в результате умножения выражений\n",
    "   $3x^{4}-7x^{2}+5$ и $x^{3}+2x-1$.</p>\n",
    "<p>Как видно, в результате имеем:\n",
    "   $(3x^{4}-7x^{2}+5)(x^{3}+2x-1)=3x^{7}-x^{5}-3x^{4}-9x^{3}+7x^{2}+10x-5$.</p>"
   ]
  },
  {
   "cell_type": "code",
   "execution_count": 2,
   "id": "e90177b6-0aee-4dc3-b25d-ad67af81c77b",
   "metadata": {
    "scrolled": true
   },
   "outputs": [
    {
     "name": "stdout",
     "output_type": "stream",
     "text": [
      "p =\n",
      "\n",
      "    3    0   -1   -3   -9    7   10   -5\n",
      "\n"
     ]
    }
   ],
   "source": [
    "p1=[3 0 -7 0 5];\n",
    "p2=[1 0 2 -1];\n",
    "p=conv(p2,p1)"
   ]
  },
  {
   "cell_type": "markdown",
   "id": "481b53a5-8e0d-412f-87e8-4b4667a6a118",
   "metadata": {},
   "source": [
    "<p><i>Частное и остаток от деления двух многочленов</i> находит функция\n",
    "   $[q, r] = deconv(p1,p2)$,\n",
    "   здесь, $p1$ — многочлен степени $n$, $p2$ — многочлен степени\n",
    "   $m$. Функция формирует вектор $q$ — коэффициенты многочлена, который\n",
    "   получается в результате деления $p1$ на $p2$ и вектор $r$ — коэффициенты\n",
    "   многочлена, который является остатком от деления $p1$ на $p2$.</p>\n",
    "<b>Пример:</b>\n",
    "<p>Найти частное и остаток от деления многочлена\n",
    "   $x^{6}-x^{5}+3x^{4}-8x^{2}+x-10$ на многочлен $x^{3}+x-1=0$.</p>\n",
    "<p>В результате имеем:\n",
    "   $$\\frac{x^{6}-x^{5}+3x^{4}-8x^{2}+x-10}{x^{3}+x-1}=x^{3}-x^{2}+2x+2+\\frac{1}{-11x^{2}+x-8}$$.</p>"
   ]
  },
  {
   "cell_type": "code",
   "execution_count": 3,
   "id": "82635ad6-6f20-4ad3-9e36-b0b2655c3f34",
   "metadata": {},
   "outputs": [
    {
     "name": "stdout",
     "output_type": "stream",
     "text": [
      "q =\n",
      "\n",
      "   1  -1   2   2\n",
      "\n",
      "r =\n",
      "\n",
      "    0    0    0    0  -11    1   -8\n",
      "\n"
     ]
    }
   ],
   "source": [
    "p1=[1 -1 3 0 -8 1 -10];\n",
    "p2=[1 0 1 -1];\n",
    "[q,r]=deconv(p1,p2)"
   ]
  },
  {
   "cell_type": "markdown",
   "id": "cea387c0-a83a-47a6-8a76-2bd683260b17",
   "metadata": {},
   "source": [
    "<p>Выполнить <i>разложение частного двух многочленов</i>, представляющих собой\n",
    "правильную дробь, на простейшие рациональные дроби вида\n",
    "$$\n",
    "\\frac{P_{1}(x)}{P_{2}(x)}=\\sum _{j=1}^{M}{\\frac{a_{j}}{(x-b_{j})^{k_{j}}}}+\\sum _{i=1}^{N}c_{i}x^{N-i}\n",
    "$$\n",
    "можно с помощью функции $[a, b, c, k] = residue(p1,p2)$,\n",
    "где $p1$ — многочлен степени $n$ (числитель), $p2$ — многочлен\n",
    "степени $m$ (знаменатель), причём $n<m$. </p>\n",
    "<p>В результате работы функция формирует четыре вектора: $a$ — вектор\n",
    "коэффициентов, расположенных в числителях простейших дробей, $b$ — вектор коэффициентов, расположенных в\n",
    "знаменателях\n",
    "простейших дробей, $k$ — вектор степеней знаменателей простейших дробей (кратность), $c$ — вектор коэффициентов\n",
    "остаточного члена. </p>\n",
    "<b>Пример:</b>\n",
    "<p>Разложить выражение $\\frac{x^{3}+1}{x^{4}-3x^{3}+3x^{2}-x}$ на простейшие дроби. </p>\n",
    "<p> Запишем решение:\n",
    "$$\\frac{x^{3}+1}{x^{4}-3x^{3}+3x^{2}-x}=\\frac{2}{x-1}+\\frac{1}{(x-1)^{2}}+\\frac{2}{(x-1)^{3}}+\\frac{-1}{x}.$$\n",
    "Значение вектора $c=[\\ ](0\\times0)$ говорит об отсутствии остаточного члена. </p>"
   ]
  },
  {
   "cell_type": "code",
   "execution_count": 4,
   "id": "396086cf-436f-4df8-a873-f3cea1109841",
   "metadata": {},
   "outputs": [
    {
     "name": "stdout",
     "output_type": "stream",
     "text": [
      "a =\n",
      "\n",
      "   2.0000\n",
      "   1.0000\n",
      "   2.0000\n",
      "  -1.0000\n",
      "\n",
      "b =\n",
      "\n",
      "   1.0000\n",
      "   1.0000\n",
      "   1.0000\n",
      "        0\n",
      "\n",
      "c = [](0x0)\n",
      "k =\n",
      "\n",
      "   1\n",
      "   2\n",
      "   3\n",
      "   1\n",
      "\n"
     ]
    }
   ],
   "source": [
    "p1=[1 0 0 1];\n",
    "p2=[1 -3 3 -1 0];\n",
    "[a,b,c,k]=residue(p1,p2)"
   ]
  },
  {
   "cell_type": "markdown",
   "id": "fa136874-ba5b-47c3-a9d0-ce3b5cac9a59",
   "metadata": {},
   "source": [
    "<b>Пример:</b>\n",
    "<p>Разложить выражение $\\frac{7x^{2}+26x-9}{x^{4}+4x^{3}+4x^{2}-9}$ на\n",
    "   простейшие дроби.</p>\n",
    "\n",
    "<p>Значения векторов $a$ и $b$ —\n",
    "   комплексные числа, то есть, на первый взгляд кажется, что выражение\n",
    "   невозможно разложить на простейшие рациональные\n",
    "   дроби. Однако задача имеет решение:\n",
    "   \n",
    "   $$\\frac{7x^{2}+26x-9}{x^{4}+4x^{3}+4x^{2}-9}=\\frac{1}{x-1}+\\frac{1}{x+3}+\\frac{-2x+5}{x^{2}+2x+3}.$$</p>\n",
    "\n",
    "<p>Выражение $\\frac{-2x+5}{x^{2}+2x+3}$ — простейшая дробь вида $\\frac{Mx+N}{x^{2}+px+q}$. Здесь\n",
    "   знаменатель невозможно разложить на простые рациональные множители первой степени. Таким образом, функция\n",
    "   $residue(p1,p2)$ выполняет разложение только на простейшие дроби вида $\\frac{a}{(x-b)^{k}}$.</p>"
   ]
  },
  {
   "cell_type": "code",
   "execution_count": 5,
   "id": "c5686b26-2ed2-4397-851d-6900d15ecb1f",
   "metadata": {},
   "outputs": [
    {
     "name": "stdout",
     "output_type": "stream",
     "text": [
      "a =\n",
      "\n",
      "  -0.1000 - 6.1207i\n",
      "  -0.1000 + 6.1207i\n",
      "   1.2000 +      0i\n",
      "\n",
      "b =\n",
      "\n",
      "  -2.5000 + 1.6583i\n",
      "  -2.5000 - 1.6583i\n",
      "   1.0000 +      0i\n",
      "\n",
      "c = [](0x0)\n",
      "k =\n",
      "\n",
      "   1\n",
      "   1\n",
      "   1\n",
      "\n"
     ]
    }
   ],
   "source": [
    " p1=[1 26 -9];\n",
    " p2=[1 4 4 -9];\n",
    " [a,b,c,k]=residue(p1,p2)"
   ]
  },
  {
   "cell_type": "markdown",
   "id": "57ea7204-9c50-4687-8921-3f1fce37e1ef",
   "metadata": {},
   "source": [
    "<p>Вычислить <i>значение многочлена в заданной точке</i> можно с помощью\n",
    "   функции $polyval(p, x)$,\n",
    "   где $p$ — многочлен степени $n$, $x$ — значение, которое нужно\n",
    "   подставить в многочлен.</p>\n",
    "<b>Пример:</b>\n",
    "<p>Вычислить значение многочлена $x^{6}-x^{5}+3x^{4}-8x^{2}+x-10$ в точках\n",
    "   $x_{1}=-1,x_{2}=1$.</p>"
   ]
  },
  {
   "cell_type": "code",
   "execution_count": 6,
   "id": "9c09b300-6a28-4d2d-ad5a-550cf4037c70",
   "metadata": {},
   "outputs": [
    {
     "name": "stdout",
     "output_type": "stream",
     "text": [
      "ans =\n",
      "\n",
      "  -14  -14\n",
      "\n"
     ]
    }
   ],
   "source": [
    " p=[1 -1 3 0 -8 1 -10];\n",
    " x=[-1,1];\n",
    " polyval(p,x)"
   ]
  },
  {
   "cell_type": "markdown",
   "id": "b4b02206-f67a-4d08-8998-7e0b692bb9ec",
   "metadata": {},
   "source": [
    "<p>Вычислить <i>производную от многочлена</i> позволяет функция\n",
    "   $polyder(p)$,\n",
    "   где $p$ — многочлен степени $n$. Функция формирует вектор коэффициентов многочлена,\n",
    "   являющегося производной от $p$.</p>\n",
    "<p><i>Производную произведения двух векторов</i> вычисляет функция\n",
    "   $polyder(p1, p2)$, где $p1$ и $p2$ — многочлены.</p>\n",
    "<p>Вызов функции в общем виде $[q, r]= polyder(p1, p2)$\n",
    "   приведёт к вычислению <i>производной от частного</i> $p1$ на $p2$ и\n",
    "   выдаст результат в виде отношения полиномов $q$ и $r$.</p>\n",
    "<b>Пример:</b>\n",
    "<p>Вычислить производную от многочлена $x^{6}-x^{5}+3x^{4}-8x^{2}+x-10$</p>\n",
    "<p>Pешением примера является многочлен\n",
    "   $6x^{5}-5x^{4}+12x^{3}-16x+1$.</p>"
   ]
  },
  {
   "cell_type": "code",
   "execution_count": 7,
   "id": "486074d5-89c5-47f7-8ce9-9817b325934f",
   "metadata": {},
   "outputs": [
    {
     "name": "stdout",
     "output_type": "stream",
     "text": [
      "ans =\n",
      "\n",
      "    6   -5   12    0  -16    1\n",
      "\n"
     ]
    }
   ],
   "source": [
    "p=[1 -1 3 0 -8 1 -10];\n",
    "polyder(p)"
   ]
  },
  {
   "cell_type": "markdown",
   "id": "8254143e-772c-4701-83d4-e234a21f5c31",
   "metadata": {},
   "source": [
    "<b>Пример:</b>\n",
    "<p>Вычислить производную от произведения многочленов $(3x^{4}-7x^{2}+5)(x^{3}+2x-1)$.</p>"
   ]
  },
  {
   "cell_type": "code",
   "execution_count": 8,
   "id": "b78e7ede-f197-4cb9-9c63-4768252c8f10",
   "metadata": {},
   "outputs": [
    {
     "name": "stdout",
     "output_type": "stream",
     "text": [
      "ans =\n",
      "\n",
      "    3    0   25  -12  -29   14  -10\n",
      "\n"
     ]
    }
   ],
   "source": [
    "p1=[3 0 -7 0 5];\n",
    "p2=[1 0 2 -1];\n",
    "polyder(p1,p2)"
   ]
  },
  {
   "cell_type": "markdown",
   "id": "9a09a5eb-1154-4e4b-9f11-d6ff9bb6495e",
   "metadata": {},
   "source": [
    "<b>Пример:</b>\n",
    "<p>Вычислить производную от выражения $$\\frac{x^{3}+1}{x^{4}-3x^{3}+3x^{2}-x}.$$</p>\n",
    "<p>Решение примера имеет вид\n",
    "   $$\\frac{-x^{4}-2x^{3}-4x+1}{x^{6}-4x^{5}+6x^{4}-4x^{3}+x^{2}}.$$</p>"
   ]
  },
  {
   "cell_type": "code",
   "execution_count": 9,
   "id": "4493233e-60d1-4552-a8f5-ac3e3df37014",
   "metadata": {},
   "outputs": [
    {
     "name": "stdout",
     "output_type": "stream",
     "text": [
      "-1 -2 0 -4 1 \n",
      "1 -4 6 -4 1 -0 -0 "
     ]
    }
   ],
   "source": [
    "p1=[1 0 0 1];\n",
    "p2=[1 -3 3 -1 0];\n",
    "[q,r]=polyder(p1,p2);\n",
    "printf(\"\\%1.0f \",q);\n",
    "printf(\"\\n\");\n",
    "printf(\"\\%1.0f \",r);"
   ]
  },
  {
   "cell_type": "markdown",
   "id": "a4536353-70e6-4228-b552-0e44b92d7bc7",
   "metadata": {},
   "source": [
    "<p>Взять <i>интеграл от многочлена</i> позволяет функция\n",
    "   $polyint(p [,k])$,\n",
    "   где $p$ — многочлен степени $n$, $K$ — постоянная интегрирования,\n",
    "   значение $K$ по умолчанию равно нулю. Функция формирует вектор\n",
    "   коэффициентов многочлена, являющегося интегралом от $p$.</p>\n",
    "<b>Пример:</b>\n",
    "<p>Найти $\\displaystyle\\int (x^{2}+2x+3)\\,dx$.</p>\n",
    "<p>Pешение имеет вид:\n",
    "   $$\\displaystyle\\int (x^{2}+2x+3)\\,dx=0.333x^{3}+x^{2}+3x.$$</p>\n",
    "<p>Если определить значение постоянной интегрирования , то решение будет таким:\n",
    "   $$\\displaystyle\\int (x^{2}+2x+3)\\,dx=0.333x^{3}+x^{2}+3x+5.$$</p>"
   ]
  },
  {
   "cell_type": "code",
   "execution_count": 10,
   "id": "5e597a42-29bf-40c2-920a-6fa3a18b9272",
   "metadata": {},
   "outputs": [
    {
     "name": "stdout",
     "output_type": "stream",
     "text": [
      "ans =\n",
      "\n",
      "   0.3333   1.0000   3.0000        0\n",
      "\n",
      "ans =\n",
      "\n",
      "   0.3333   1.0000   3.0000   5.0000\n",
      "\n"
     ]
    }
   ],
   "source": [
    " p=[1 2 3];\n",
    " polyint(p)\n",
    "\t% `Указываем постоянную интегрирования`\n",
    " polyint(p,5)"
   ]
  },
  {
   "cell_type": "markdown",
   "id": "a3c9c0c1-b18b-4d5c-a62a-848ec7814556",
   "metadata": {},
   "source": [
    "<p><i>Построить многочлен</i> по заданному вектору его корней\n",
    "   позволяет функция $poly(x)$,\n",
    "   где $x$ — вектор корней искомого полинома.</p>\n",
    "<b>Пример:</b>\n",
    "<p>Записать алгебраическое уравнение, если известно, что его корни\n",
    "   $x_{1}=-2,x_{2}=3$.</p>\n",
    "<p>Pешение примера имеет вид: $x^{2}-x-6=0$</p>"
   ]
  },
  {
   "cell_type": "code",
   "execution_count": 11,
   "id": "37100723-e743-43eb-a869-1669c487e173",
   "metadata": {},
   "outputs": [
    {
     "name": "stdout",
     "output_type": "stream",
     "text": [
      "ans =\n",
      "\n",
      "   1  -1  -6\n",
      "\n"
     ]
    }
   ],
   "source": [
    " x=[-2 3];\n",
    " poly(x)"
   ]
  },
  {
   "cell_type": "markdown",
   "id": "5f91f247-1819-4679-80e7-761a9fec4e85",
   "metadata": {},
   "source": [
    "<p>Решить <i>алгебраическое уравнение</i> $P(x)=0$ можно при помощи\n",
    "   встроенной функции $roots(p)$,\n",
    "   где $p$ — многочлен степени $n$. Функция формирует вектор, элементы которого\n",
    "   являются корнями заданного полинома.</p>\n",
    "\n",
    "<b>Пример:</b>\n",
    "<p>Решить алгебраическое уравнение $x^{2}-x-6=0$.</p>"
   ]
  },
  {
   "cell_type": "code",
   "execution_count": 12,
   "id": "dcd62568-1fe3-4c77-85f7-185ca4dcf13b",
   "metadata": {},
   "outputs": [
    {
     "name": "stdout",
     "output_type": "stream",
     "text": [
      "ans =\n",
      "\n",
      "   3\n",
      "  -2\n",
      "\n"
     ]
    }
   ],
   "source": [
    " p=[1 -1 -6];\n",
    " roots(p)"
   ]
  },
  {
   "cell_type": "markdown",
   "id": "4aea415d-3a54-4d9d-baf7-702df746185b",
   "metadata": {},
   "source": [
    "<p>Значения $x_{1}=-2$, $x_{2}=3$\n",
    "   являются решением уравнения.</p>\n",
    "\n",
    "<b>Пример:</b>\n",
    "<p>Найти корни полинома $2x^{3}-3x^{2}-12x-5=0$.</p>"
   ]
  },
  {
   "cell_type": "code",
   "execution_count": 13,
   "id": "320dcb4b-b8db-4293-9986-3329a0cc2012",
   "metadata": {},
   "outputs": [
    {
     "name": "stdout",
     "output_type": "stream",
     "text": [
      "x =\n",
      "\n",
      "   3.4495\n",
      "  -1.4495\n",
      "  -0.5000\n",
      "\n"
     ]
    }
   ],
   "source": [
    " p=[2 -3 -12 -5];\n",
    " x=roots(p)"
   ]
  },
  {
   "cell_type": "markdown",
   "id": "72190a62-6d6b-479b-bb98-c7cad1feaa41",
   "metadata": {},
   "source": [
    "<p>Далее приведено графическое решение заданного уравнения. Точки\n",
    "   пересечения графика с осью абсцисс и есть корни уравнения.\n",
    "   Не трудно заметить, что графическое решение совпадает с\n",
    "   аналитическим.</p>"
   ]
  },
  {
   "cell_type": "code",
   "execution_count": 14,
   "id": "07c9d0ff-d023-4998-9d54-fc7df7ba961f",
   "metadata": {},
   "outputs": [
    {
     "data": {
      "image/png": "[encoded data removed]",
      "text/plain": [
       "<IPython.core.display.Image object>"
      ]
     },
     "metadata": {},
     "output_type": "display_data"
    }
   ],
   "source": [
    "cla;\n",
    "x=-2:0.1:5.5;\n",
    "y=2*x.^3-3*x.^2-12*x-5;\n",
    "pol=plot(x,y);\n",
    "set(pol,'LineWidth',3,'Color','k')\n",
    "set(gca,'xlim',[-2,4]);\n",
    "set(gca,'ylim',[-30,30]);\n",
    "set(gca,'xtick',[-2:0.5:4]);\n",
    "set(gca,'ytick',[-30:5:30]);\n",
    "grid on;\n",
    "xlabel('x');ylabel('y');\n",
    "title('Plot y=2*x^3-3*x^2-12*x-5');"
   ]
  },
  {
   "cell_type": "markdown",
   "id": "7c3e49c5-5bf0-488b-a2be-b1195d9120dd",
   "metadata": {},
   "source": [
    "<b>Пример:</b>\n",
    "<p>Найти решение уравнения $x^{4}+4x^{3}+4x^{2}-9=0$.</p>\n",
    "<p>Далее приведено графическое решение заданного уравнения. Заданное\n",
    "   алгебраическое уравнение имеет два действительных корня.\n",
    "   Аналитическое решение примера показывает не только\n",
    "   действительные, но и комплексные корни.</p>"
   ]
  },
  {
   "cell_type": "code",
   "execution_count": 15,
   "id": "dcb3f7b9-a482-4867-87ba-2543c534cc95",
   "metadata": {},
   "outputs": [
    {
     "name": "stdout",
     "output_type": "stream",
     "text": [
      "x =\n",
      "\n",
      "  -3.0000 +      0i\n",
      "  -1.0000 + 1.4142i\n",
      "  -1.0000 - 1.4142i\n",
      "   1.0000 +      0i\n",
      "\n"
     ]
    },
    {
     "data": {
      "image/png": "[encoded data removed]",
      "text/plain": [
       "<IPython.core.display.Image object>"
      ]
     },
     "metadata": {},
     "output_type": "display_data"
    }
   ],
   "source": [
    "% `Графическое нахождение корней`\n",
    "cla;\n",
    "x=-4:0.1:2;\n",
    "y=x.^4+4*x.^3+4*x.^2-9;\n",
    "pol=plot(x,y);\n",
    "set(pol,'LineWidth',3,'Color','k')\n",
    "set(gca,'xlim',[-4,2]);\n",
    "set(gca,'ylim',[-10,5]);\n",
    "set(gca,'xtick',[-4:0.5:2]);\n",
    "set(gca,'ytick',[-10:1:5]);\n",
    "grid on;\n",
    "xlabel('x');ylabel('y');\n",
    "title('Plot y=x^4+4*x^3+4*x^2-9');\n",
    "% `Аналитическое нахождение корней`\n",
    "p=[1 4 4 0 -9];\n",
    "x=roots(p)"
   ]
  },
  {
   "cell_type": "markdown",
   "id": "564a2112-746a-4878-a25e-9d11393da3b4",
   "metadata": {},
   "source": [
    "<h2>Решение трансцендентных уравнений</h2>\n",
    "<p>Уравнение, в котором неизвестное входит в аргумент трансцендентных функций, называется\n",
    "   <i>трансцендентным уравнением</i>. К трансцендентным\n",
    "   уравнениям принадлежат показательные, логарифмические, тригонометрические.\n",
    "</p>\n",
    "Для <i>решения трансцендентных уравнений</i> вида $f(x)=0$ в <b>Octave</b>\n",
    "<p>существует функция $fzero(name, x0)$ или\n",
    "   $fzero(name, [a, b])$, где $name$ — имя функции, вычисляющей левую часть уравнения,\n",
    "   $x0$ — начальное приближение к корню, $[a, b]$ — интервал изоляции корня.</p>\n",
    "<p>Если функция вызывается в формате: $[x, y]= fzero(name, x0)$,\n",
    "   то здесь $x$ — корень уравнения, $y$ — значение функции в точке $x$.</p>\n",
    "<b>Пример:</b>\n",
    "<p>Найти решение уравнения:\n",
    "   $$\\sqrt[3]{(2x-3)^{2}}-\\sqrt[3]{(x-1)^{2}}=0.$$</p>\n",
    "<p>Начнём решение данного трансцендентного уравнения с определения интервала\n",
    "   изоляции корня. Воспользуемся для этого графическим методом. Построим график функции, создав\n",
    "   предварительно функцию для её определения.</p>"
   ]
  },
  {
   "cell_type": "code",
   "execution_count": 35,
   "id": "2c267b0b-8f2c-4a0e-83f9-aeff1cd97e45",
   "metadata": {},
   "outputs": [
    {
     "data": {
      "image/png": "[encoded data removed]",
      "text/plain": [
       "<IPython.core.display.Image object>"
      ]
     },
     "metadata": {},
     "output_type": "display_data"
    }
   ],
   "source": [
    "% `Функция для вычисления левой части уравнения f(x)=0`\n",
    "function y=f1(x)\n",
    "y=((2*x-3).^2).^(1/3)-((x-1).^2).^(1/3);\n",
    "end;\n",
    "% `Построение графика функции f(x)`\n",
    "cla;\n",
    "x=-1:0.1:3;\n",
    "y=f1(x);\n",
    "pol=plot(x,y);\n",
    "set(pol,'LineWidth',3,'Color','k')\n",
    "set(gca,'xlim',[-1,3]);set(gca,'ylim',[-1,1.5]);\n",
    "set(gca,'xtick',[-1:0.5:3]);set(gca,'ytick',[-1:0.5:1.5]);\n",
    "grid on;xlabel('x');ylabel('y');\n",
    "title('Plot y=(2x-3)^{2/3}-(x-1)^{2/3}');"
   ]
  },
  {
   "cell_type": "markdown",
   "id": "9552d472-5f53-4571-9ab9-57abbc18ec8e",
   "metadata": {},
   "source": [
    "<p>Функция $f(x)$ дважды\n",
    "   пересекает ось $Ox$. Первый раз на интервале $[1,1.5]$, второй — $[1.5,2.5]$.</p>\n",
    "<p>Уточним корни, полученные графическим методом. Воспользуемся функцией,\n",
    "   вычисляющей левую часть заданного уравнения, и обратимся к функции $fzero$, указав в качестве параметров имя\n",
    "   созданной функции и\n",
    "   число (1.5) близкое к первому корню:</p>"
   ]
  },
  {
   "cell_type": "code",
   "execution_count": 17,
   "id": "a02baf72-9b10-4e02-93a2-8b64d30e67f7",
   "metadata": {},
   "outputs": [
    {
     "name": "stdout",
     "output_type": "stream",
     "text": [
      "x1 = 1.3333\n"
     ]
    }
   ],
   "source": [
    "x1=fzero('f1', 1.5)\n"
   ]
  },
  {
   "cell_type": "markdown",
   "id": "d803acba-b09e-4b2f-a300-e1c00d03bd67",
   "metadata": {},
   "source": [
    "<p>\n",
    "   Теперь применим функцию $fzero$, указав в качестве параметров имя функции, и интервал изоляции второго корня:\n",
    "</p>"
   ]
  },
  {
   "cell_type": "code",
   "execution_count": 18,
   "id": "7c219a79-412f-493f-8361-8e56fc62fb73",
   "metadata": {},
   "outputs": [
    {
     "name": "stdout",
     "output_type": "stream",
     "text": [
      "x2 = 2\n"
     ]
    }
   ],
   "source": [
    "x2=fzero('f1', [1.5 2.5])\n"
   ]
  },
  {
   "cell_type": "markdown",
   "id": "b8c596a9-4652-45f0-a3dd-fcc9af607002",
   "metadata": {},
   "source": [
    "<p>Не трудно заметить, что и в первом и во втором случае функция $fzero$ правильно\n",
    "   нашла корни заданного уравнения.</p>\n",
    "<p>Ниже приведён\n",
    "   пример некорректного обращения к функции $fzero$,\n",
    "   здесь интервал изоляции корня задан неверно. На графике видно, что на концах\n",
    "   этого интервала функция знак не меняет, или, другими\n",
    "   словами, выбранный интервал содержит сразу два корня.</p>"
   ]
  },
  {
   "cell_type": "code",
   "execution_count": 19,
   "id": "3dea7f6d-a93f-401b-ac14-bd05fb9825c5",
   "metadata": {},
   "outputs": [
    {
     "name": "stdout",
     "output_type": "stream",
     "text": [
      "error: fzero: not a valid initial bracketing\n",
      "error: called from\n",
      "    fzero at line 228 column 5\n"
     ]
    }
   ],
   "source": [
    "fzero('f1', [1 3])\n"
   ]
  },
  {
   "cell_type": "markdown",
   "id": "96da70ba-50c1-4462-8e45-52df810f3d62",
   "metadata": {},
   "source": [
    "<p>\n",
    "   Далее приведён пример обращения к функции $fzero$ в полном формате:\n",
    "</p>"
   ]
  },
  {
   "cell_type": "code",
   "execution_count": 20,
   "id": "0fe7cbe9-d299-4206-b26b-cc8cc6d08c2d",
   "metadata": {},
   "outputs": [
    {
     "name": "stdout",
     "output_type": "stream",
     "text": [
      "X =\n",
      "\n",
      "   1.3333   2.0000\n",
      "\n",
      "Y =\n",
      "\n",
      "  -2.9421e-15            0\n",
      "\n"
     ]
    }
   ],
   "source": [
    "[X(1),Y(1)]=fzero('f1', [1 1.5]);\n",
    "[X(2),Y(2)]=fzero('f1', [1.5 2.5]);\n",
    "X % `Решение уравнения`\n",
    "Y % `Значения функции в точке Х`"
   ]
  },
  {
   "cell_type": "markdown",
   "id": "58d028d8-ba0e-4b2c-abf0-afdb9f6820f2",
   "metadata": {},
   "source": [
    "<b>Пример:</b>\n",
    "<p>\n",
    "   Найти решение уравнения $x^{4}+4x^{3}+4x^{2}-9=0$.\n",
    "</p>\n",
    "<p>Как видим, левая часть уравнения представляет собой полином.\n",
    "   Данное уравнение имеет четыре корня: два действительных и два мнимых.</p>\n",
    "<p>Код, приведенный ниже, демонстрирует решение алгебраического уравнения при\n",
    "   помощи функции $fzero$. Не трудно заметить, что результатом работы функции\n",
    "   являются только действительные корни. Графическое решение\n",
    "   подтверждает это: функция дважды пересекает ось абсцисс.</p>"
   ]
  },
  {
   "cell_type": "code",
   "execution_count": 21,
   "id": "73e4597b-799c-4b0d-8092-c1d633bfed56",
   "metadata": {},
   "outputs": [
    {
     "name": "stdout",
     "output_type": "stream",
     "text": [
      "X =\n",
      "\n",
      "  -3   1\n",
      "\n",
      "Y =\n",
      "\n",
      "   0   0\n",
      "\n"
     ]
    }
   ],
   "source": [
    "function y=f2(x)\n",
    "y=x.^4+4*x.^3+4*x.^2-9;\n",
    "end;\n",
    "[X(1),Y(1)]=fzero('f2', [-4 -2]);\n",
    "[X(2),Y(2)]=fzero('f2', [0 2]);\n",
    "X\n",
    "Y"
   ]
  },
  {
   "cell_type": "markdown",
   "id": "7b6d308d-c940-42bc-99a4-6316c7324948",
   "metadata": {},
   "source": [
    "<h2>Решение систем нелинейных уравнений</h2>\n",
    "<p>Напомним, что если заданы $m$ уравнений с $n$ неизвестными и требуется найти\n",
    "   последовательность из $n$ чисел, которые одновременно удовлетворяют каждому из $m$\n",
    "   уравнений, то говорят о <i>системе уравнений</i>.</p>\n",
    "<p>Несложную систему элементарной подстановкой можно привести к нелинейному\n",
    "   уравнению. Рассмотрим несколько примеров, в\n",
    "   которых описан такой приём решения нелинейной системы.</p>\n",
    "<b>Пример:</b>\n",
    "<p>\n",
    "   Решить систему уравнений:\n",
    "   $$\n",
    "   \\left\\{\n",
    "   \\begin{aligned}\n",
    "   x^{2}+2y^{2}&=1\\\\x-y&=1 .\n",
    "   \\end{aligned}\n",
    "   \\right.\n",
    "   $$\n",
    "</p>\n",
    "<p>\n",
    "   Найдём графическое решение. Cистема имеет два решения.\n",
    "</p>"
   ]
  },
  {
   "cell_type": "code",
   "execution_count": 36,
   "id": "1fe45cec-2a7e-424a-b196-b219d9283299",
   "metadata": {},
   "outputs": [
    {
     "data": {
      "image/png": "[encoded data removed]",
      "text/plain": [
       "<IPython.core.display.Image object>"
      ]
     },
     "metadata": {},
     "output_type": "display_data"
    }
   ],
   "source": [
    "% `Верхняя часть эллипса`\n",
    "function y=f1(x)\n",
    "y=sqrt((1-x.^2)/2);\n",
    "end;\n",
    "% `Нижняя часть эллипса`\n",
    "function y=f2(x)\n",
    "y=-sqrt((1-x.^2)/2);\n",
    "end;\n",
    "% `Прямая`\n",
    "function y=f3(x)\n",
    "y=x-1;\n",
    "end;\n",
    "% `Построение графика`\n",
    "cla;\n",
    "x1=-1:0.01:1; x2=-1.5:0.1:1.5;\n",
    "L1=plot(x1,f1(x1),x1,f2(x1));\n",
    "set(L1,'LineWidth',2,'Color','k')\n",
    "hold on\n",
    "L2=plot(x2,f3(x2));\n",
    "set(L2,'LineWidth',3,'Color','k')\n",
    "set(gca,'xlim',[-1.5,1.5]);set(gca,'ylim',[-1,1]);\n",
    "set(gca,'xtick',[-1.5:0.2:1.5]);set(gca,'ytick',[-1:0.2:1]);\n",
    "grid on;xlabel('x');ylabel('y');"
   ]
  },
  {
   "cell_type": "markdown",
   "id": "1676380e-69a8-4afc-9b4e-0fd1401818fb",
   "metadata": {},
   "source": [
    "<p>\n",
    "   Не сложно убедиться, что данная система легко сводится к одному уравнению:\n",
    "   $\\{y=x-1,x^{2}+2y^{2}=1\\}\\Rightarrow x^{2}+2(x-1)^{2}-1=0\\Rightarrow 3x^{2}-4x+1=0$.\n",
    "</p>\n",
    "<p>Решив это уравнение с помощью функции $roots$, найдём значения $x$. Затем подставим\n",
    "   их в одно из уравнений системы, например во второе, и тем самым вычислим\n",
    "   значения $y$:</p>"
   ]
  },
  {
   "cell_type": "code",
   "execution_count": 38,
   "id": "c1b5e931-253b-4dd5-af4e-97d63ffb2445",
   "metadata": {},
   "outputs": [
    {
     "name": "stdout",
     "output_type": "stream",
     "text": [
      "x =\n",
      "\n",
      "   1.0000\n",
      "   0.3333\n",
      "\n",
      "y =\n",
      "\n",
      "        0\n",
      "  -0.6667\n",
      "\n"
     ]
    }
   ],
   "source": [
    "p=[3 -4 1];\n",
    "x=roots(p)\n",
    "y=x-1"
   ]
  },
  {
   "cell_type": "markdown",
   "id": "3ee6dfd7-7d29-4b9d-a601-bd21d2d46aea",
   "metadata": {},
   "source": [
    "<p>Понятно,\n",
    "   что система имеет два решения $x_{1}=1$, $y_{1}=0$ и\n",
    "   $x_{2}=0.333$, $y_{2}=-0.666$.</p>"
   ]
  },
  {
   "cell_type": "code",
   "execution_count": 39,
   "id": "b5aabedc-6a06-43d2-81cf-7f8e15f4a954",
   "metadata": {},
   "outputs": [
    {
     "data": {
      "image/png": "[encoded data removed]",
      "text/plain": [
       "<IPython.core.display.Image object>"
      ]
     },
     "metadata": {},
     "output_type": "display_data"
    }
   ],
   "source": [
    "function y=f(x)\n",
    "y=3*x.^2-4*x+1;\n",
    "end;\n",
    "cla;\n",
    "x=0:0.01:1.5;\n",
    "L=plot(x,f(x));set(L,'LineWidth',2,'Color','k')\n",
    "set(gca,'xlim',[0,1.5]);set(gca,'ylim',[-0.5,1]);\n",
    "set(gca,'xtick',[0:0.1:1.5]);set(gca,'ytick',[-0.5:0.1:1]);\n",
    "grid on;xlabel('x');ylabel('y');"
   ]
  },
  {
   "cell_type": "markdown",
   "id": "2bdde831-06f8-4cd3-958e-0dcbefae8ee8",
   "metadata": {},
   "source": [
    "<b>Пример:</b>\n",
    "<p>Решить систему уравнений:\n",
    "   $$\\left\\{\n",
    "   \\begin{aligned}\n",
    "   \\sin (x+1)-y&=1.2\\\\2x+\\cos (y)&=2 .\n",
    "   \\end{aligned}\n",
    "   \\right. $$</p>\n",
    "<p>Проведём элементарные алгебраические преобразования и представим\n",
    "   систему в виде одного уравнения:\n",
    "   $\\{y=\\sin (x+1)-1.2,2x+\\cos (y)-2=0\\}\\Rightarrow 2x+\\cos (\\sin (x+1)-1.2)-2=0$</p>\n",
    "<p>Удобно изобразить графическое решение, чтобы использовать его для выбора\n",
    "   начального приближения функции $fzero$.\n",
    "   Код ниже содержит решение заданной системы. Здесь значения $x$ вычисляется при помощи\n",
    "   функции $fzero$, а значение $y$ определяется из первого уравнения системы.</p>"
   ]
  },
  {
   "cell_type": "code",
   "execution_count": 40,
   "id": "6ad623c7-29c5-4ee8-96bc-36f74d9d94b6",
   "metadata": {},
   "outputs": [
    {
     "name": "stdout",
     "output_type": "stream",
     "text": [
      "X = 0.5102\n",
      "Y = -0.2018\n"
     ]
    },
    {
     "data": {
      "image/png": "[encoded data removed]",
      "text/plain": [
       "<IPython.core.display.Image object>"
      ]
     },
     "metadata": {},
     "output_type": "display_data"
    }
   ],
   "source": [
    "% `Строим график`\n",
    "function y=fun(x)\n",
    "z=sin(x+1)-1.2;\n",
    "y=2*x+cos(z)-2;\n",
    "end;\n",
    "cla;\n",
    "x=-1:0.01:1;\n",
    "L=plot(x,fun(x));set(L,'LineWidth',2,'Color','k')\n",
    "grid on;xlabel('x');ylabel('y');\n",
    "% `Находим аналитическое решение системы вблизи $x=0$`\n",
    "X=fzero('fun',0)\n",
    "Y=sin(X+1)-1.2"
   ]
  },
  {
   "cell_type": "markdown",
   "id": "a91eb545-5fa1-4acd-9761-05a462885fc8",
   "metadata": {},
   "source": [
    "<p><i>Решить систему нелинейных уравнений</i>, или одно нелинейное\n",
    "   уравнение, в <b>Octave</b> можно с помощью функции $fsolve(fun, x0)$,\n",
    "   где $fun$ — имя функции, которая определяет левую часть уравнения\n",
    "   $f(x)=0$ или системы уравнений $F(x)=0$ (она должна\n",
    "   принимать на входе вектор аргументов и возвращать вектор значений), $x0$ — вектор приближений,\n",
    "   относительно которого будет осуществляться поиск решения.</p>\n",
    "<b>Пример:</b>\n",
    "<p>\n",
    "   Найти решение системы нелинейных уравнений:\n",
    "   $$\\left\\{\n",
    "   \\begin{aligned}\n",
    "   \\cos (x)+2y=2\\\\\n",
    "   \\frac{x^{2}}{3}-\\frac{y^{2}}{3}=1 .\n",
    "   \\end{aligned}\n",
    "   \\right.\n",
    "   $$\n",
    "</p>\n",
    "\n",
    "<p>Решим систему графически, для чего выполним следующее. </p>"
   ]
  },
  {
   "cell_type": "code",
   "execution_count": 41,
   "id": "46f4b833-277e-465f-a62c-279f33fc2ecd",
   "metadata": {},
   "outputs": [
    {
     "data": {
      "image/png": "[encoded data removed]",
      "text/plain": [
       "<IPython.core.display.Image object>"
      ]
     },
     "metadata": {},
     "output_type": "display_data"
    }
   ],
   "source": [
    "% `Уравнения, описывающие линии гиперболы`\n",
    "function y=f1(x)\n",
    "y=sqrt(x.^2-3);\n",
    "end;\n",
    "function y=f2(x)\n",
    "y=-sqrt(x.^2-3);\n",
    "end;\n",
    "% `Уравнение косинусоиды`\n",
    "function y=f3(x)\n",
    "y=1-cos(x)/2;\n",
    "end;\n",
    "% `Построение графика`\n",
    "cla;\n",
    "x1=-5:0.001:-sqrt(3);\n",
    "x2=sqrt(3):0.001:5;\n",
    "x3=-5:0.1:5;\n",
    "% `Гипербола`\n",
    "L1=plot(x1,f1(x1),x1,f2(x1),x2,f1(x2),x2,f2(x2));\n",
    "set(L1,'LineWidth',3,'Color','k')\n",
    "hold on\n",
    "% `Косинусоида`\n",
    "L2=plot(x3,f3(x3));set(L2,'LineWidth',3,'Color','k')\n",
    "grid on;xlabel('x');ylabel('y');"
   ]
  },
  {
   "cell_type": "markdown",
   "id": "bd5626b7-9aa8-41ca-9153-050b9f3abf59",
   "metadata": {},
   "source": [
    "<p>Понятно, что система\n",
    "   имеет два корня.</p>\n",
    "<p>Составим функцию, соответствующую левой части системы.\n",
    "   Здесь важно помнить, что все уравнения должны иметь вид $F(x)=0$. Кроме того,\n",
    "   обратите внимание, что $x$ и $y$ в этой функции — векторы ($x$ — вектор\n",
    "   неизвестных, $y$ — вектор решений).</p>"
   ]
  },
  {
   "cell_type": "code",
   "execution_count": 27,
   "id": "28ba4e16-91c1-46b9-99c3-507577548053",
   "metadata": {},
   "outputs": [],
   "source": [
    "function [y]=fun(x)\n",
    "y(1)=cos(x(1))+2*x(2)-2;\n",
    "y(2)=x(1)^2/3-x(2)^2/3-1;\n",
    "end;"
   ]
  },
  {
   "cell_type": "markdown",
   "id": "9652d468-d39d-48a9-a18a-044c5cf2127b",
   "metadata": {},
   "source": [
    "<p>Теперь решим систему, указав в качестве\n",
    "   начального приближения сначала вектор $[-3,-1]$,\n",
    "   затем $[1,3]$.</p>"
   ]
  },
  {
   "cell_type": "code",
   "execution_count": 28,
   "id": "f5d3cfa0-b3fb-40f3-b1e1-f0f2e7ea789a",
   "metadata": {},
   "outputs": [
    {
     "name": "stdout",
     "output_type": "stream",
     "text": [
      "X1_Y1 =\n",
      "\n",
      "  -2.1499   1.2736\n",
      "\n",
      "X2_Y2 =\n",
      "\n",
      "   2.1499   1.2736\n",
      "\n"
     ]
    }
   ],
   "source": [
    "[X1_Y1]=fsolve('fun', [-3 -1])\n",
    "[X2_Y2]=fsolve('fun', [1 3])"
   ]
  },
  {
   "cell_type": "markdown",
   "id": "6f2cd1ac-7140-48c8-848b-9b2d920f6336",
   "metadata": {},
   "source": [
    "<p>Понятно, что решением примера являются пары\n",
    "   $x_{1}=-2.15, y_{1}=1.27$ и $x_{2}=2.15, y_{2}=1.27$, что соответствует\n",
    "   графическому решению.</p>\n",
    "<p>Если функция решения нелинейных уравнений и систем имеет вид\n",
    "   $[x, f, ex]=fsolve(fun, x0)$,\n",
    "   то здесь $x$ — вектор решений системы, $f$ — вектор значений уравнений системы для\n",
    "   найденного значения $x$, $ex$ — признак завершения алгоритма решения нелинейной\n",
    "   системы, отрицательное значение параметра $ ex$ означает, что решение не найдено,\n",
    "   ноль — досрочное прерывание вычислительного процесса при достижении максимально\n",
    "   допустимого числа итераций, положительное значение\n",
    "   подтверждает, что решение найдено с заданной точностью.</p>\n",
    "<b>Пример:</b>\n",
    "<p>\n",
    "   Решить систему нелинейных уравнений:\n",
    "   $$\\left\\{\n",
    "   \\begin{aligned}\n",
    "   x_{1}^{2}+x_{2}^{2}+x_{3}^{2}&=1\\\\\n",
    "   2x_{1}^{2}+x_{2}^{2}-4x_{3}&=0\\\\\n",
    "   3x_{1}^{2}-4x_{2}^{2}+x_{3}^{2}&=0 .\n",
    "   \\end{aligned}\n",
    "   \\right. $$\n",
    "</p>\n",
    "<p>Обратите внимание на выходные параметры функции $fsolve$. В нашем\n",
    "   случае значения функции $f$ для найденного решения $x$ близки к нулю\n",
    "   и признак завершения $ex$ положительный, значит, найдено верное\n",
    "   решение.</p>"
   ]
  },
  {
   "cell_type": "code",
   "execution_count": 29,
   "id": "f6567410-c3e1-4308-96c2-29d5aab46060",
   "metadata": {},
   "outputs": [
    {
     "name": "stdout",
     "output_type": "stream",
     "text": [
      "x =\n",
      "\n",
      "   0.7852   0.4966   0.3699\n",
      "\n",
      "f =\n",
      "\n",
      "   1.8278e-10   3.6517e-10   5.4795e-10\n",
      "\n",
      "ex = 1\n"
     ]
    }
   ],
   "source": [
    "function f=Y(x)\n",
    "f(1)=x(1)^2+x(2)^2+x(3)^2-1;\n",
    "f(2)=2*x(1)^2+x(2)^2-4*x(3);\n",
    "f(3)=3*x(1)^2-4*x(2)+x(3)^2;\n",
    "end\n",
    "[x,f,ex]=fsolve('Y',[0.5 0.5 0.5])"
   ]
  },
  {
   "cell_type": "markdown",
   "id": "a08f9e5a-638e-425d-bbb3-54f3ff3a04dc",
   "metadata": {},
   "source": [
    "<b>Пример:</b>\n",
    "<p>Решить систему:\n",
    "   $$\\left\\{\n",
    "   \\begin{aligned}\n",
    "   x^{2}+y^{2}&=1\\\\\n",
    "   2\\sin (x-1)+y&=1 .\n",
    "   \\end{aligned}\n",
    "   \\right. $$</p>"
   ]
  },
  {
   "cell_type": "code",
   "execution_count": 30,
   "id": "c1b86a16-755f-427a-9b73-b835a87cf840",
   "metadata": {},
   "outputs": [
    {
     "data": {
      "image/png": "[encoded data removed]",
      "text/plain": [
       "<IPython.core.display.Image object>"
      ]
     },
     "metadata": {},
     "output_type": "display_data"
    }
   ],
   "source": [
    "% `Уравнения линий окружности`\n",
    "function y=f1(x)\n",
    "y=sqrt(1-x.^2);\n",
    "end;\n",
    "function y=f2(x)\n",
    "y=-sqrt(1-x.^2);\n",
    "end;\n",
    "% `Уравнение синусоиды`\n",
    "function y=f3(x)\n",
    "y=1-2*sin(x-1);\n",
    "end;\n",
    "okno1=figure();cla; \n",
    "x1=-1:0.01:1;x3=-2:0.1:2;\n",
    "% `Окружность`\n",
    "L1=plot(x1,f1(x1),x1,f2(x1));set(L1,'LineWidth',3,'Color','k')\n",
    "hold on\n",
    "% `Синусоида`\n",
    "L2=plot(x3,f3(x3));set(L2,'LineWidth',3,'Color','k')\n",
    "grid on;xlabel('x');ylabel('y');"
   ]
  },
  {
   "cell_type": "markdown",
   "id": "84cf0650-aaad-4915-b5f4-d4d44dd616eb",
   "metadata": {},
   "source": [
    "<p>Графическое решение системы показало,\n",
    "   что она корней не имеет.</p>\n",
    "<p>Однако применение к системе функции $fsolve$ в программе ниже даёт положительный ответ. Происходит это потому, что\n",
    "   алгоритм, реализованный в этой функции,\n",
    "   основан на минимизации суммы\n",
    "   квадратов компонент вектор–функции. Следовательно, функция $fsolve$ в этом\n",
    "   случае нашла точку минимума, а наличие точки минимума не гарантирует\n",
    "   существование корней системы в её окрестности.</p>"
   ]
  },
  {
   "cell_type": "code",
   "execution_count": 31,
   "id": "59187f97-2751-42dd-b7ce-141fa27e16ec",
   "metadata": {},
   "outputs": [
    {
     "name": "stdout",
     "output_type": "stream",
     "text": [
      "X1_Y1 =\n",
      "\n",
      "   1.0456   0.5238\n",
      "\n"
     ]
    }
   ],
   "source": [
    "function [y]=fun(x)\n",
    "y(1)=x(1)^2+x(2)^2-1;\n",
    "y(2)=2*sin(x(1)-1)+x(2)-1;\n",
    "end;\n",
    "[X1_Y1]=fsolve('fun', [1 1])"
   ]
  },
  {
   "cell_type": "markdown",
   "id": "feb510c5-524b-4604-a00d-7a5940499780",
   "metadata": {},
   "source": [
    "<h2>Решение нелинейных уравнений и систем в символьных\n",
    "   переменных</h2>\n",
    "<p>Напомним, что для работы с символьными переменными в <b>Octave</b> должен\n",
    "   быть подключён специальный пакет расширений <b>octave-symbolic</b>.\n",
    "   Процедура установки пакетов расширений описана в первой главе.</p>\n",
    "<p>Для <i>решения системы нелинейных уравнений</i> или одного\n",
    "   <i>нелинейного уравнения</i> можно воспользоваться функцией\n",
    "   <b>symfsolve</b>.\n",
    "</p>\n",
    "\n",
    "<b>Пример:</b>\n",
    "<p>\n",
    "   Решить уравнение $\\frac{e^{x}}{5}-3(2x-1)=0$.\n",
    "</p>\n",
    "<p>Команды, с помощью которых выполнено графическое\n",
    "   и аналитическое решение представлены ниже.</p>"
   ]
  },
  {
   "cell_type": "code",
   "execution_count": 42,
   "id": "48881112-18e9-43eb-bdd9-5302b938aaeb",
   "metadata": {},
   "outputs": [
    {
     "name": "stdout",
     "output_type": "stream",
     "text": [
      "error: 'symbols' undefined near line 1, column 1\n",
      "error: 'sym' undefined near line 1, column 1\n",
      "\n",
      "The 'sym' function belongs to the symbolic package from Octave Forge\n",
      "which seems to not be installed in your system.\n",
      "\n",
      "Please read <https://www.octave.org/missing.html> to learn how you can\n",
      "contribute missing functionality.\n",
      "error: 'Exp' undefined near line 1, column 1\n",
      "error: 'symfsolve' undefined near line 1, column 1\n",
      "error: 'symfsolve' undefined near line 1, column 1\n"
     ]
    },
    {
     "data": {
      "image/png": "[encoded data removed]",
      "text/plain": [
       "<IPython.core.display.Image object>"
      ]
     },
     "metadata": {},
     "output_type": "display_data"
    }
   ],
   "source": [
    "cla;\n",
    "symbols\n",
    "x=sym(\"x\");\n",
    "y=Exp(x)/5-3*(2*x-1);\n",
    "L=ezplot('exp(x)/5-3*(2*x-1)');\n",
    "set(L,'LineWidth',2,'Color','k')\n",
    "set(gca,'xlim',[-2,6]);set(gca,'ylim',[-20,50]);\n",
    "set(gca,'xtick',[-2:0.5:6]);set(gca,'ytick',[-20:10:50]);\n",
    "grid on;xlabel('x');ylabel('y');\n",
    "q1 = symfsolve(y,0) \n",
    "q2 = symfsolve(y,4) "
   ]
  },
  {
   "cell_type": "markdown",
   "id": "e1d21137-285e-4e99-b37e-f6a9dcf868fa",
   "metadata": {},
   "source": [
    "<b>Пример:</b>\n",
    "<p>Решить систему:\n",
    "   $$\\left\\{\n",
    "   \\begin{aligned}\n",
    "   x^{2}+y^{2}+3x-2y&=4\\\\x+2y&=5 .\n",
    "   \\end{aligned}\n",
    "   \\right.\n",
    "   $$</p>"
   ]
  },
  {
   "cell_type": "code",
   "execution_count": 44,
   "id": "18b09141-645c-4592-9a9c-bcf83882202a",
   "metadata": {},
   "outputs": [
    {
     "name": "stdout",
     "output_type": "stream",
     "text": [
      "error: 'symbols' undefined near line 1, column 1\n",
      "error: 'sym' undefined near line 1, column 1\n",
      "\n",
      "The 'sym' function belongs to the symbolic package from Octave Forge\n",
      "which you have installed but not loaded.  To load the package, run 'pkg\n",
      "load symbolic' from the Octave prompt.\n",
      "\n",
      "Please read <https://www.octave.org/missing.html> to learn how you can\n",
      "contribute missing functionality.\n",
      "error: 'sym' undefined near line 1, column 1\n",
      "\n",
      "The 'sym' function belongs to the symbolic package from Octave Forge\n",
      "which you have installed but not loaded.  To load the package, run 'pkg\n",
      "load symbolic' from the Octave prompt.\n",
      "\n",
      "Please read <https://www.octave.org/missing.html> to learn how you can\n",
      "contribute missing functionality.\n",
      "warning: inline is obsolete; use anonymous functions instead\n",
      "error: 'x' undefined near line 1, column 1\n",
      "error: 'x' undefined near line 1, column 1\n",
      "error: 'f1' undefined near line 1, column 1\n",
      "error: 'f1' undefined near line 1, column 1\n"
     ]
    },
    {
     "data": {
      "image/png": "[encoded data removed]",
      "text/plain": [
       "<IPython.core.display.Image object>"
      ]
     },
     "metadata": {},
     "output_type": "display_data"
    }
   ],
   "source": [
    "clear all;clf;cla;\n",
    "symbols;\n",
    "x=sym(\"x\");\n",
    "y=sym(\"y\");\n",
    "L1=ezplot('x^2+y^2+3*x-2*y-4');set(L1,'LineWidth',2,'Color','k')\n",
    "hold on\n",
    "L2=ezplot('x+2*y-5');set(L2,'LineWidth',2,'Color','k')\n",
    "set(gca,'xlim',[-5,4]);set(gca,'ylim',[-2,5]);\n",
    "set(gca,'xtick',[-5:0.5:4]);set(gca,'ytick',[-2:0.5:5]);\n",
    "grid on;xlabel('x');ylabel('y');\n",
    "title('x^2+y^2+3x-2y=4, x+2y=5')\n",
    "f1=x^2+y^2+3*x-2*y-4;\n",
    "f2=x+2*y-5;\n",
    "q1 = symfsolve(f1,f2,{x==0,y==1}) \n",
    "q2 = symfsolve(f1,f2,{x==-1,y==3}) "
   ]
  },
  {
   "cell_type": "markdown",
   "id": "191141a1-b3ff-460d-91f1-fb7b91520b19",
   "metadata": {},
   "source": [
    "<p>Решение системы показало, что она имеет\n",
    "   два корня $x_{1}=1, y_{1}=2$ и $x_{2}=-2.2,y_{2}=3.6$, что\n",
    "   соответствует графическому решению.</p>"
   ]
  }
 ],
 "metadata": {
  "kernelspec": {
   "display_name": "Octave",
   "language": "octave",
   "name": "octave"
  },
  "language_info": {
   "file_extension": ".m",
   "help_links": [
    {
     "text": "GNU Octave",
     "url": "https://www.gnu.org/software/octave/support.html"
    },
    {
     "text": "Octave Kernel",
     "url": "https://github.com/Calysto/octave_kernel"
    },
    {
     "text": "MetaKernel Magics",
     "url": "https://metakernel.readthedocs.io/en/latest/source/README.html"
    }
   ],
   "mimetype": "text/x-octave",
   "name": "octave",
   "version": "6.4.0"
  }
 },
 "nbformat": 4,
 "nbformat_minor": 5
}
